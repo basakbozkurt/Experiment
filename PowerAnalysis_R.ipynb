{
  "nbformat": 4,
  "nbformat_minor": 0,
  "metadata": {
    "colab": {
      "provenance": [],
      "authorship_tag": "ABX9TyPTWyrmO8YR+7Boofo0CL/U",
      "include_colab_link": true
    },
    "kernelspec": {
      "name": "python3",
      "display_name": "Python 3"
    },
    "language_info": {
      "name": "python"
    }
  },
  "cells": [
    {
      "cell_type": "markdown",
      "metadata": {
        "id": "view-in-github",
        "colab_type": "text"
      },
      "source": [
        "<a href=\"https://colab.research.google.com/github/basakbozkurt/Experiment/blob/main/PowerAnalysis_R.ipynb\" target=\"_parent\"><img src=\"https://colab.research.google.com/assets/colab-badge.svg\" alt=\"Open In Colab\"/></a>"
      ]
    },
    {
      "cell_type": "code",
      "source": [
        "!apt-get install -q r-base\n",
        "!apt-get install -q libcurl4-openssl-dev libssl-dev libxml2-dev\n",
        "!R -e \"install.packages('IRkernel')\"\n",
        "!R -e \"IRkernel::installspec(user = FALSE)\"\n"
      ],
      "metadata": {
        "id": "uP4nJLsW-3vJ"
      },
      "execution_count": null,
      "outputs": []
    },
    {
      "cell_type": "code",
      "source": [
        "!pip install -q rpy2\n",
        "%load_ext rpy2.ipython"
      ],
      "metadata": {
        "id": "9OC1Vi0p_afZ"
      },
      "execution_count": 3,
      "outputs": []
    },
    {
      "cell_type": "code",
      "source": [
        "%%R\n",
        "install.packages(\"lme4\", repos='http://cran.rstudio.com/')\n",
        "install.packages(\"DeclareDesign\", repos='http://cran.rstudio.com/')\n",
        "install.packages(\"dplyr\", repos='http://cran.rstudio.com/')\n",
        "install.packages(\"ggplot2\", repos='http://cran.rstudio.com/')\n"
      ],
      "metadata": {
        "collapsed": true,
        "id": "-ZCJBAFJ_uh4"
      },
      "execution_count": null,
      "outputs": []
    },
    {
      "cell_type": "code",
      "source": [
        "%%R\n",
        "library(tidyverse)\n",
        "library(ggplot2)\n",
        "library(DeclareDesign)\n",
        "\n",
        "\n",
        "set.seed(123)\n",
        "\n",
        "#Parameters\n",
        "treatment_ratio <- 0.6  # 60% treatment, 40% control\n",
        "alpha <- 0.05\n",
        "sd_population <- 5\n",
        "effect_sizes <- c(0.10, 0.29, 0.35)\n",
        "#effect_sizes <- c(0.10, 0.20, 0.30)\n",
        "\n",
        "\n",
        "#Simulate nested data with covariates\n",
        "simulate_data <- function(N_participants, effect_size, N_headlines = 12) {\n",
        "  participants <- tibble(\n",
        "    participant = 1:N_participants,\n",
        "    treatment = rbinom(N_participants, 1, treatment_ratio),\n",
        "    age = sample(18:75, N_participants, replace = TRUE),\n",
        "    ideological_alignment = runif(N_participants, -1, 1)\n",
        "  )\n",
        "\n",
        "  ratings <- participants %>%\n",
        "    expand_grid(headline = 1:N_headlines) %>%\n",
        "    mutate(\n",
        "      pre_accuracy = rnorm(n(), mean = 50, sd = 15),  # Slightly reduce baseline variation\n",
        "      post_accuracy = pre_accuracy - (effect_size * treatment) +\n",
        "        0.1 * age +\n",
        "        0.2 * ideological_alignment +\n",
        "        rnorm(n(), mean = 0, sd = sd_population)  # Reduce excess noise\n",
        "    )\n",
        "\n",
        "  return(ratings)\n",
        "}\n",
        "\n",
        "#Compute power for a given sample size\n",
        "compute_power <- function(N_participants, effect_size, nsim = 2000) {  # Increased nsim for accuracy\n",
        "  results <- replicate(nsim, {\n",
        "    sim_data <- simulate_data(N_participants, effect_size)\n",
        "    model <- lm(post_accuracy ~ treatment + pre_accuracy + age + ideological_alignment, data = sim_data)\n",
        "    p_value <- summary(model)$coefficients[\"treatment\", \"Pr(>|t|)\"]\n",
        "    return(p_value < alpha)\n",
        "  })\n",
        "  mean(results)\n",
        "}\n",
        "\n",
        "#Sample sizes and run power simulations\n",
        "sample_sizes <- seq(100, 1500, by = 100)\n",
        "power_results <- expand_grid(N_participants = sample_sizes, effect_size = effect_sizes) %>%\n",
        "  mutate(Power = map2_dbl(N_participants, effect_size, compute_power))\n",
        "\n",
        "#Convert effect size to a factor for plotting\n",
        "power_results <- power_results %>%\n",
        "  mutate(effect_size_label = factor(effect_size, levels = effect_sizes,\n",
        "                                    labels = c(\"Effect Size = 0.10\",\n",
        "                                               \"Effect Size = 0.29\",\n",
        "                                               \"Effect Size = 0.35\")))\n",
        "\n",
        "ggplot(power_results, aes(x = N_participants, y = Power, color = effect_size_label, shape = effect_size_label, linetype = effect_size_label)) +\n",
        "  geom_point(size = 3) +\n",
        "  geom_line(size = 1) +\n",
        "  geom_hline(yintercept = 0.8, linetype = \"dashed\", color = \"red\", size = 1) +\n",
        "  labs(title = \"Power Curves\",\n",
        "       x = \"Sample Size\",\n",
        "       y = \"Statistical Power\") +\n",
        "  scale_y_continuous(limits = c(0, 1), breaks = seq(0, 1, by = 0.20)) +  # Ensure 0.80 is visible\n",
        "  scale_color_manual(values = c(\"blue\", \"green\", \"orange\")) +\n",
        "  scale_shape_manual(values = c(15, 16, 17)) +\n",
        "  scale_linetype_manual(values = c(\"dashed\", \"solid\", \"dotdash\")) +\n",
        "  theme_minimal() +\n",
        "  theme(legend.title = element_blank(),\n",
        "        legend.position = \"bottom\")\n",
        "\n",
        "\n"
      ],
      "metadata": {
        "colab": {
          "base_uri": "https://localhost:8080/"
        },
        "id": "El6uS0QL-y9A",
        "outputId": "21953154-eee2-4700-9ae4-fb3e1c8a65a4"
      },
      "execution_count": null,
      "outputs": [
        {
          "output_type": "stream",
          "name": "stdout",
          "text": [
            "── Attaching core tidyverse packages ──────────────────────── tidyverse 2.0.0 ──\n",
            "✔ dplyr     1.1.4     ✔ readr     2.1.5\n",
            "✔ forcats   1.0.0     ✔ stringr   1.5.1\n",
            "✔ ggplot2   3.5.1     ✔ tibble    3.2.1\n",
            "✔ lubridate 1.9.4     ✔ tidyr     1.3.1\n",
            "✔ purrr     1.0.4     \n",
            "── Conflicts ────────────────────────────────────────── tidyverse_conflicts() ──\n",
            "✖ dplyr::filter() masks stats::filter()\n",
            "✖ dplyr::lag()    masks stats::lag()\n",
            "ℹ Use the conflicted package (<http://conflicted.r-lib.org/>) to force all conflicts to become errors\n"
          ]
        },
        {
          "output_type": "stream",
          "name": "stderr",
          "text": [
            "WARNING:rpy2.rinterface_lib.callbacks:R[write to console]: Loading required package: randomizr\n",
            "\n",
            "WARNING:rpy2.rinterface_lib.callbacks:R[write to console]: Loading required package: fabricatr\n",
            "\n",
            "WARNING:rpy2.rinterface_lib.callbacks:R[write to console]: Loading required package: estimatr\n",
            "\n",
            "WARNING:rpy2.rinterface_lib.callbacks:R[write to console]: \n",
            "Attaching package: ‘DeclareDesign’\n",
            "\n",
            "\n",
            "WARNING:rpy2.rinterface_lib.callbacks:R[write to console]: The following object is masked from ‘package:dplyr’:\n",
            "\n",
            "    vars\n",
            "\n",
            "\n",
            "WARNING:rpy2.rinterface_lib.callbacks:R[write to console]: The following object is masked from ‘package:ggplot2’:\n",
            "\n",
            "    vars\n",
            "\n",
            "\n"
          ]
        }
      ]
    },
    {
      "cell_type": "code",
      "source": [],
      "metadata": {
        "id": "RzMjRpF_-2NB"
      },
      "execution_count": 2,
      "outputs": []
    }
  ]
}